{
 "cells": [
  {
   "cell_type": "markdown",
   "metadata": {},
   "source": [
    "# TimML Exercises"
   ]
  },
  {
   "cell_type": "markdown",
   "metadata": {},
   "source": [
    "## Exercise 4: Horizontal wells\n",
    "\n",
    "A horizontal well is located in a 20 m thick aquifer; the hydraulic conductivity is $k = 10$ m/d and the vertical\n",
    "anisotropy factor is 0.1. The horizontal well is placed 5 m above the bottom of the aquifer. The well has\n",
    "a discharge of 10,000 m$^3$/d and radius of $r=0.2$ m. The well is 200 m long and runs from $(x, y) = (−100, 0)$\n",
    "to $(x, y) = (100, 0)$. A long straight river with a head of 40 m runs to the right of the horizontal well along the line\n",
    "$x = 200$. The head is fixed to 42 m at $(x, y) = (−1000, 0)$.\n",
    "\n",
    "Three-dimensional flow to the horizontal well is modeled by dividing the aquifer up in 11 layers; the\n",
    "elevations are: `[20, 15, 10, 8, 6, 5.5, 5.2, 4.8, 4.4, 4, 2, 0]`. At the depth of the well, the layer thickness is equal to\n",
    "the diameter of the well, and it increases away from the well. A TimML model is created with the Model3D\n",
    "command. The horizontal well is located in layer 6 and is modeled with the `LineSinkDitch` element. Initially, the screen resistance of the well is set to zero."
   ]
  },
  {
   "cell_type": "code",
   "execution_count": null,
   "metadata": {
    "collapsed": false
   },
   "outputs": [],
   "source": [
    "from timml import *\n",
    "from pylab import *\n",
    "%matplotlib notebook"
   ]
  },
  {
   "cell_type": "code",
   "execution_count": null,
   "metadata": {
    "collapsed": false
   },
   "outputs": [],
   "source": [
    "z = [20, 15, 10, 8, 6, 5.5, 5.2, 4.8, 4.4, 4, 2, 0]\n",
    "ml = Model3D(z, kh=10, kzoverkh=0.1)\n",
    "\n",
    "# Create the horizontal well\n",
    "xy = [(-100, 0.0), (-90, 0.0), (-80, 0.0), (-70, 0.0), (-60, 0.0), (-50, 0.0), (-40, 0.0),\\\n",
    "      (-30, 0.0), (-20, 0.0), (-10, 0.0), (0, 0.0), (10, 0.0), (20, 0.0), (30, 0.0), (40, 0.0),\\\n",
    "      (50, 0.0), (60, 0.0), (70, 0.0), (80, 0.0), (90, 0.0), (100, 0.0)]\n",
    "ls = LineSinkDitch(ml, xylist=xy, Q=10000, res=0, width=0.4, layers=[6])\n",
    "\n",
    "HeadLineSink(ml, 200, -1000, 200, -500, 40, 0)\n",
    "HeadLineSink(ml, 200, -500, 200, -200, 40, 0)\n",
    "HeadLineSink(ml, 200, -200, 200, -100, 40, 0)\n",
    "HeadLineSink(ml, 200, -100, 200, 0, 40, 0)\n",
    "HeadLineSink(ml, 200, 0, 200, 100, 40, 0)\n",
    "HeadLineSink(ml, 200, 100, 200, 200, 40, 0)\n",
    "HeadLineSink(ml, 200, 200, 200, 500, 40, 0)\n",
    "HeadLineSink(ml, 200, 500, 200, 1000, 40, 0)\n",
    "\n",
    "rf = Constant(ml, xr=-1000, yr=0, head=42, layer=0)"
   ]
  },
  {
   "cell_type": "markdown",
   "metadata": {},
   "source": [
    "### Questions:\n",
    "#### Exercise 4a\n",
    "Solve the model."
   ]
  },
  {
   "cell_type": "code",
   "execution_count": null,
   "metadata": {
    "collapsed": false
   },
   "outputs": [],
   "source": []
  },
  {
   "cell_type": "markdown",
   "metadata": {},
   "source": [
    "#### Exercise 4b\n",
    "Create contour plots of layers 0 and 6 and note the difference between the layers. Also,\n",
    "compute the head at $(x, y) = (0, 0.2)$ (on the edge of the well) and notice that there is a very large head\n",
    "difference between the top of the aquifer and the well."
   ]
  },
  {
   "cell_type": "code",
   "execution_count": null,
   "metadata": {
    "collapsed": false,
    "scrolled": false
   },
   "outputs": [],
   "source": []
  },
  {
   "cell_type": "markdown",
   "metadata": {},
   "source": [
    "#### Exercise 4c\n",
    "Draw a number of pathlines from different elevations using the `timtracelines` command. First make a contour plot with a cross section below it.  "
   ]
  },
  {
   "cell_type": "code",
   "execution_count": null,
   "metadata": {
    "collapsed": false
   },
   "outputs": [],
   "source": []
  },
  {
   "cell_type": "markdown",
   "metadata": {},
   "source": [
    "#### Exercise 4d\n",
    "Make a contour plot of the heads in a vertical cross-section using the `timvertcontour()` command. Use a cross-section along the well."
   ]
  },
  {
   "cell_type": "code",
   "execution_count": null,
   "metadata": {
    "collapsed": false
   },
   "outputs": [],
   "source": []
  },
  {
   "cell_type": "markdown",
   "metadata": {},
   "source": [
    "#### Exercise 4e\n",
    "Change the entry resistance of the well and resolve the model. Notice the difference in the head inside the\n",
    "well by checking the solution with `ls.check()`."
   ]
  },
  {
   "cell_type": "code",
   "execution_count": null,
   "metadata": {
    "collapsed": false
   },
   "outputs": [],
   "source": []
  },
  {
   "cell_type": "code",
   "execution_count": null,
   "metadata": {
    "collapsed": true
   },
   "outputs": [],
   "source": []
  }
 ],
 "metadata": {
  "kernelspec": {
   "display_name": "Python 2",
   "language": "python",
   "name": "python2"
  },
  "language_info": {
   "codemirror_mode": {
    "name": "ipython",
    "version": 2
   },
   "file_extension": ".py",
   "mimetype": "text/x-python",
   "name": "python",
   "nbconvert_exporter": "python",
   "pygments_lexer": "ipython2",
   "version": "2.7.11"
  }
 },
 "nbformat": 4,
 "nbformat_minor": 0
}
