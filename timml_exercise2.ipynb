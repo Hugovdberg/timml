{
 "cells": [
  {
   "cell_type": "markdown",
   "metadata": {},
   "source": [
    "# TimML Exercises"
   ]
  },
  {
   "cell_type": "markdown",
   "metadata": {},
   "source": [
    "## Exercise 2: A system with wells, rivers, and recharge\n",
    "\n",
    "Consider a system of three aquifers. The aquifer parameters are presented in Table 1; note that an average thickness is specified for the top unconfined aquifer. A river with three branches cuts through the upper aquifer. The river is modeled with 7 head-specified line-sinks and each branch is modeled with 5 line-sinks. The Northern branch is modeled with resistance line-sinks with a resistance $c$ of 5 days and a width $w$ of 10 meters. The heads are specified at the centers of the line-sinks and are shown in Figure 1. \n",
    "\n",
    "Three wells are present. Well 1 is screened in aquifer 0 and has a discharge of 1000 m$^3$/d, well 2 is screened in aquifer 2 and has a discharge of 5000 m$^3$/d, and well 3 is screened in aquifers 1 and 2 and has a total discharge of 5000 m$^3$/d. A constant recharge through the upper boundary of aquifer 0 is simulated by one large circular infiltration area that covers the entire model area; the recharge rate is 0.2 mm/day. A head of 175 m is specified in layer 0 at the upper righthand corner of the model domain. A layout of all analytic elements, except the boundary of the infiltration area, is shown in Figure 1. \n",
    "\n",
    "#### Table 1: Aquifer data for Exercise 2\n",
    "|             | $k$ (m/d) | $z_b$ (m) | $z_t$ | $c$ (days) | $n$ (-) | $n_{ll}$ (-) |\n",
    "|------------:|----------:|----------:|------:|-----------:|--------:|----------:|\n",
    "|Aquifer 0    |   2       |   140     | 165   |            |  0.3    |           | \n",
    "|Leaky Layer 1|           |   120     | 140   |    2000    |         |   0.2     |    \n",
    "|Aquifer 1    |   6       |   80      | 120   |            |  0.25   |           |  \n",
    "|Leaky Layer 2|           |   60      | 80    |    20000   |         |   0.25    |  \n",
    "|Aquifer 2    |   4       |   0       | 60    |            |  0.3    |           ||\n",
    "\n",
    "<img src=\"Layout_exercise2.png\"> </img>\n",
    "\n",
    "#### Figure 1: Layout of elements for Exercise 2. Heads at centers of line-sinks are indicated. "
   ]
  },
  {
   "cell_type": "code",
   "execution_count": null,
   "metadata": {
    "collapsed": false
   },
   "outputs": [],
   "source": [
    "from timml import *\n",
    "from pylab import *\n",
    "%matplotlib notebook"
   ]
  },
  {
   "cell_type": "code",
   "execution_count": null,
   "metadata": {
    "collapsed": false
   },
   "outputs": [],
   "source": [
    "# Create basic model elements\n",
    "ml = Model(k=[2, 6, 4],\n",
    "           zb=[140, 80, 0],\n",
    "           zt=[165, 120, 60],\n",
    "           c=[2000, 20000],\n",
    "           n=[0.3, 0.25, 0.3],\n",
    "           nll=[0.2, 0.25])\n",
    "rf = Constant(ml, xr=20000, yr=20000, head=175, layer=0)\n",
    "p = CircAreaSink(ml, xp=10000, yp=10000, Rp=15000, infil=0.0002, layer=0)\n",
    "w1 = Well(ml, xw=10000, yw=8000, Qw=1000, rw=0.3, layers=0, label='well 1')\n",
    "w2 = Well(ml, xw=12100, yw=10700, Qw=5000, rw=0.3, layers=2, label='well 2')\n",
    "w3 = Well(ml, xw=10000, yw=4600, Qw=5000, rw=0.3, layers=[1,2], label='maq well')\n",
    "#\n",
    "HeadLineSink(ml, x1=9510, y1=19466, x2=12620, y2=17376, head=170, layers=0)\n",
    "HeadLineSink(ml, 12620, 17376, 12753, 14976, 168, [0])\n",
    "HeadLineSink(ml, 12753, 14976, 13020, 12176, 166, [0])\n",
    "HeadLineSink(ml, 13020, 12176, 15066, 9466,  164, [0])\n",
    "HeadLineSink(ml, 15066, 9466,  16443, 7910,  162, [0])\n",
    "HeadLineSink(ml, 16443, 7910,  17510, 5286,  160, [0])\n",
    "HeadLineSink(ml, 17510, 5286,  17600, 976,   158, [0])\n",
    "#\n",
    "HeadLineSink(ml, 356,   6976,  4043,  7153, 174, [0])\n",
    "HeadLineSink(ml, 4043,  7153,  6176,  8400, 171, [0])\n",
    "HeadLineSink(ml, 6176,  8400,  9286,  9820, 168, [0])\n",
    "HeadLineSink(ml, 9286,  9820,  12266, 9686, 166, [0])\n",
    "HeadLineSink(ml, 12266, 9686,  15066, 9466, 164, [0])\n",
    "#\n",
    "HeadLineSink(ml, 1376,  1910,  4176,  2043, 170, [0])\n",
    "HeadLineSink(ml, 4176,  2043,  6800,  1553, 166, [0])\n",
    "HeadLineSink(ml, 6800,  1553,  9953,  2086, 162, [0])\n",
    "HeadLineSink(ml, 9953,  2086,  14043, 2043, 160, [0])\n",
    "HeadLineSink(ml, 14043, 2043,  17600, 976 , 158, [0])\n",
    "#\n",
    "ResLineSink(ml, x1=12753, y1=14976, x2=10781, y2=14895, head=168, res=5, width=10, layers=[0])\n",
    "ResLineSink(ml, 10781, 14895, 8385,  15677, 170, 5, 10, [0])\n",
    "ResLineSink(ml,  8385, 15677, 6094,  15885, 172, 5, 10, [0])\n",
    "ResLineSink(ml,  6094, 15885, 3229,  14843, 174, 5, 10, [0])\n",
    "ls = ResLineSink(ml,  3229, 14843,  833,  14261, 176, 5, 10, [0])"
   ]
  },
  {
   "cell_type": "markdown",
   "metadata": {},
   "source": [
    "### Questions:\n",
    "#### Exercise 2a\n",
    "Solve the model and create a contour plot."
   ]
  },
  {
   "cell_type": "code",
   "execution_count": null,
   "metadata": {
    "collapsed": false
   },
   "outputs": [],
   "source": []
  },
  {
   "cell_type": "markdown",
   "metadata": {},
   "source": [
    "#### Exercise 2b\n",
    "Note that the last line-sink is given a name (ls). Check the head at the center of this line-sink. Does the\n",
    "resistance of the bottom have a big effect?"
   ]
  },
  {
   "cell_type": "code",
   "execution_count": null,
   "metadata": {
    "collapsed": false
   },
   "outputs": [],
   "source": []
  },
  {
   "cell_type": "markdown",
   "metadata": {},
   "source": [
    "#### Exercise 2c\n",
    "What are the heads at the three wells?"
   ]
  },
  {
   "cell_type": "code",
   "execution_count": null,
   "metadata": {
    "collapsed": false
   },
   "outputs": [],
   "source": []
  },
  {
   "cell_type": "markdown",
   "metadata": {},
   "source": [
    "#### Exercise 2d \n",
    "Zoom in on the river near Well 1 and assess visually the accuracy of the head along the river by making\n",
    "a local contour plot."
   ]
  },
  {
   "cell_type": "code",
   "execution_count": null,
   "metadata": {
    "collapsed": false
   },
   "outputs": [],
   "source": []
  },
  {
   "cell_type": "markdown",
   "metadata": {},
   "source": [
    "#### Exercise 2e\n",
    "Create a contour plot including a cross-section (`xsec=True`).\n",
    "Create capture zones for all three wells, for example for 50 years."
   ]
  },
  {
   "cell_type": "code",
   "execution_count": null,
   "metadata": {
    "collapsed": false
   },
   "outputs": [],
   "source": []
  },
  {
   "cell_type": "markdown",
   "metadata": {},
   "source": [
    "#### Exercise 2f\n",
    "Replace the circular area-sink by a polygonal area-sink with corners (0,0), (20000,-2000), (15000,25000),\n",
    "and (-2000,20000) with a recharge of 0.2 mm/day. Solve the model. Has the head at well 1 changed a lot?"
   ]
  },
  {
   "cell_type": "code",
   "execution_count": null,
   "metadata": {
    "collapsed": false
   },
   "outputs": [],
   "source": []
  },
  {
   "cell_type": "code",
   "execution_count": null,
   "metadata": {
    "collapsed": false
   },
   "outputs": [],
   "source": []
  }
 ],
 "metadata": {
  "kernelspec": {
   "display_name": "Python 2",
   "language": "python",
   "name": "python2"
  },
  "language_info": {
   "codemirror_mode": {
    "name": "ipython",
    "version": 2
   },
   "file_extension": ".py",
   "mimetype": "text/x-python",
   "name": "python",
   "nbconvert_exporter": "python",
   "pygments_lexer": "ipython2",
   "version": "2.7.11"
  }
 },
 "nbformat": 4,
 "nbformat_minor": 0
}
