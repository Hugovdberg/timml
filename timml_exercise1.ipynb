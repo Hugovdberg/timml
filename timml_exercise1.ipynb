{
 "cells": [
  {
   "cell_type": "markdown",
   "metadata": {},
   "source": [
    "# TimML Exercises"
   ]
  },
  {
   "cell_type": "markdown",
   "metadata": {},
   "source": [
    "## Exercise 1: A well in uniform flow\n",
    "\n",
    "Consider a well in the middle aquifer of a three aquifer system. Aquifer properties are given in Table 1. The well is located at $(x,y)=(0,0)$, the discharge is $Q=10,000$ m$^3$/d and the radius is 0.2 m. There is a uniform flow from West to East with a gradient of 0.002. The head is fixed to 20 m at a distance of 10,000 m downstream of the well. Here is the cookbook recipe to build this model:\n",
    "    \n",
    "* Set figures to be inline with `%matplotlib inline`\n",
    "* Import everything from TimML: `from timml import *`\n",
    "* Create the model and give it a name, for example `ml` with the command `ml = Model(Naquifers, k, zb, zt, c)` (substitute the correct lists for $k$, $z_b$, $z_t$, $c$).\n",
    "* Enter the well with the command `w = Well(ml, xw, yw, Qw, rw, layers)`, where the well is called `w`.\n",
    "* Enter uniform flow with the command `Uflow(ml, grad, angle)`.\n",
    "* Enter the reference head with `Constant(ml, xr, yr, head, layer)`.\n",
    "* Solve the model `ml.solve()`\n",
    "\n",
    "#### Table 1: Aquifer data for exercise 1\n",
    "|             |$k$ (m/d)|$z_b$ (m)|$z_t$|$c$ (days)|\n",
    "|-------------|--------:|--------:|----:|---------:|\n",
    "|Aquifer 0    |    10   |   -20   |  0  |          |\n",
    "|Leaky Layer 1|         |   -40   | -20 |  4000    |   \n",
    "|Aquifer 1    |    20   |   -80   | -40 |          |\n",
    "|Leaky Layer 2|         |   -90   | -80 |  10000   | \n",
    "|Aquifer 2    |     5   |   -140  | -90 |          ||\n"
   ]
  },
  {
   "cell_type": "code",
   "execution_count": null,
   "metadata": {
    "collapsed": false
   },
   "outputs": [],
   "source": [
    "%matplotlib notebook\n",
    "from timml import *\n",
    "from pylab import *"
   ]
  },
  {
   "cell_type": "code",
   "execution_count": null,
   "metadata": {
    "collapsed": false
   },
   "outputs": [],
   "source": [
    "ml = Model(k=[10, 20, 5],\n",
    "           zb=[-20, -80, -140], \n",
    "           zt=[0, -40, -90], \n",
    "           c=[4000, 10000] )\n",
    "w = Well(ml, xw=0, yw=0, Qw=10000, rw=0.2, layers=1 )\n",
    "Constant(ml, xr=10000, yr=0, head=20, layer=0 )\n",
    "Uflow(ml, grad=0.002, angle=0 )\n",
    "ml.solve()"
   ]
  },
  {
   "cell_type": "markdown",
   "metadata": {},
   "source": [
    "### Questions:\n",
    "#### Exercise 1a\n",
    "What are the leakage factors of the aquifer system?"
   ]
  },
  {
   "cell_type": "code",
   "execution_count": null,
   "metadata": {
    "collapsed": false
   },
   "outputs": [],
   "source": []
  },
  {
   "cell_type": "markdown",
   "metadata": {},
   "source": [
    "#### Exercise 1b\n",
    "What is the head at the well?"
   ]
  },
  {
   "cell_type": "code",
   "execution_count": null,
   "metadata": {
    "collapsed": false
   },
   "outputs": [],
   "source": []
  },
  {
   "cell_type": "markdown",
   "metadata": {},
   "source": [
    "#### Exercise 1c\n",
    "Create a contour plot of the head in the three aquifers. Use a window with lower left hand corner $(x,y)=(−3000,−3000)$ and upper right hand corner $(x,y)=(3000,3000)$. Notice that the heads in the three aquifers are almost equal at three times the largest leakage factor."
   ]
  },
  {
   "cell_type": "code",
   "execution_count": null,
   "metadata": {
    "collapsed": false
   },
   "outputs": [],
   "source": []
  },
  {
   "cell_type": "markdown",
   "metadata": {},
   "source": [
    "#### Exercise 1d\n",
    "Create a contour plot of the head in aquifer 1 with labels along the contours. Use a contour interval of 1\n",
    "m."
   ]
  },
  {
   "cell_type": "code",
   "execution_count": null,
   "metadata": {
    "collapsed": false
   },
   "outputs": [],
   "source": []
  },
  {
   "cell_type": "markdown",
   "metadata": {},
   "source": [
    "#### Exercise 1e\n",
    "Create a contour plot with a vertical cross-section below it. (A contour plot without any contours may be created by specifying `layers=0`.) Start three pathlines from $(x,y)=(-2000,-1000)$ at levels $z=-120$, $z=-60$, and $z=-10$. Try a few other starting locations."
   ]
  },
  {
   "cell_type": "code",
   "execution_count": null,
   "metadata": {
    "collapsed": false
   },
   "outputs": [],
   "source": []
  },
  {
   "cell_type": "markdown",
   "metadata": {},
   "source": [
    "#### Exercise 1f\n",
    "Add an abandoned well that is screened in both aquifer 0 and aquifer 1, located at $(x, y) = (100, 100)$ and create contour plot of all aquifers near the well (from (-200,-200) till (200,200)). What are the discharge and the head at the abandoned well? Note that you have to solve the model again!"
   ]
  },
  {
   "cell_type": "code",
   "execution_count": null,
   "metadata": {
    "collapsed": false
   },
   "outputs": [],
   "source": []
  },
  {
   "cell_type": "code",
   "execution_count": null,
   "metadata": {
    "collapsed": false
   },
   "outputs": [],
   "source": []
  },
  {
   "cell_type": "code",
   "execution_count": null,
   "metadata": {
    "collapsed": false
   },
   "outputs": [],
   "source": []
  },
  {
   "cell_type": "code",
   "execution_count": null,
   "metadata": {
    "collapsed": true
   },
   "outputs": [],
   "source": []
  }
 ],
 "metadata": {
  "kernelspec": {
   "display_name": "Python 2",
   "language": "python",
   "name": "python2"
  },
  "language_info": {
   "codemirror_mode": {
    "name": "ipython",
    "version": 2
   },
   "file_extension": ".py",
   "mimetype": "text/x-python",
   "name": "python",
   "nbconvert_exporter": "python",
   "pygments_lexer": "ipython2",
   "version": "2.7.11"
  }
 },
 "nbformat": 4,
 "nbformat_minor": 0
}
