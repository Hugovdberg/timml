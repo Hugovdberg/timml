{
 "cells": [
  {
   "cell_type": "code",
   "execution_count": 1,
   "metadata": {
    "collapsed": true
   },
   "outputs": [],
   "source": [
    "from pylab import *\n",
    "%matplotlib inline"
   ]
  },
  {
   "cell_type": "code",
   "execution_count": 2,
   "metadata": {
    "collapsed": false
   },
   "outputs": [
    {
     "data": {
      "image/png": "[encoded data removed]",
      "text/plain": [
       "<matplotlib.figure.Figure at 0x10914ec50>"
      ]
     },
     "metadata": {},
     "output_type": "display_data"
    }
   ],
   "source": [
    "# ModelMaq figure\n",
    "figure()\n",
    "axes(frameon = 0)\n",
    "grey = [.9, .9, .9]\n",
    "plot([-1, 1], [0, 0], 'k', lw=2)\n",
    "axhspan(-5, -10, color=grey)\n",
    "axhspan(-20, -25, color=grey)\n",
    "plot([-1, 1], [-35, -35], 'k', lw=2)\n",
    "text(0, -2.5, '$k$ = 10 m/d', ha='center', va='center')\n",
    "text(0, -15, '$k$ = 30 m/d', ha='center', va='center')\n",
    "text(0, -30, '$k$ = 20 m/d', ha='center', va='center')\n",
    "text(0, -7.5, '$c$ = 2000 d', ha='center', va='center')\n",
    "text(0, -22.5, '$c$ = 5000 d', ha='center', va='center')\n",
    "xlim(-1, 1)\n",
    "yticks([0, -5, -10, -20, -25, -35])\n",
    "ylabel('elevation (m)')\n",
    "xticks([])\n",
    "savefig('../docs/models/modelmaq.png', bbox_inches='tight')\n",
    "#ModelMaq(kaq=[10, 30, 20], z=[0, -5, -10, -20, -25, -35], c=[2000, 5000])"
   ]
  },
  {
   "cell_type": "code",
   "execution_count": 3,
   "metadata": {
    "collapsed": false
   },
   "outputs": [
    {
     "data": {
      "image/png": "[encoded data removed]",
      "text/plain": [
       "<matplotlib.figure.Figure at 0x109354588>"
      ]
     },
     "metadata": {},
     "output_type": "display_data"
    }
   ],
   "source": [
    "# ModelMaq figure\n",
    "figure()\n",
    "axes(frameon = 0)\n",
    "grey = [.9, .9, .9]\n",
    "plot([-1, 1], [0, 0], 'k', lw=2)\n",
    "axhspan(-5, -5, color=grey)\n",
    "axhspan(-10, -10, color=grey)\n",
    "axhspan(-20, -20, color=grey)\n",
    "axhspan(-25, -25, color=grey)\n",
    "plot([-1, 1], [-35, -35], 'k', lw=2)\n",
    "text(0, -2.5, '$k$ = 10 m/d', ha='center', va='center')\n",
    "text(0, -7.5, '$k$ = 0.025 m/d', ha='center', va='center')\n",
    "text(0, -15, '$k$ = 30 m/d', ha='center', va='center')\n",
    "text(0, -22.5, '$k$ = 0.01 m/d', ha='center', va='center')\n",
    "text(0, -30, '$k$ = 20 m/d', ha='center', va='center')\n",
    "xlim(-1, 1)\n",
    "yticks([0, -5, -10, -20, -25, -35])\n",
    "ylabel('elevation (m)')\n",
    "xticks([])\n",
    "savefig('../docs/models/model3d.png', bbox_inches='tight')\n",
    "#Model3D(kaq=[10, 0.0025, 30, 0.001, 20], z=[0, -5, -10, -20, -25, -35], kzoverkh=0.1)"
   ]
  },
  {
   "cell_type": "code",
   "execution_count": 4,
   "metadata": {
    "collapsed": false
   },
   "outputs": [
    {
     "data": {
      "image/png": "[encoded data removed]",
      "text/plain": [
       "<matplotlib.figure.Figure at 0x10952de10>"
      ]
     },
     "metadata": {},
     "output_type": "display_data"
    }
   ],
   "source": [
    "# Model\n",
    "figure()\n",
    "axes(frameon = 0)\n",
    "grey = [.9, .9, .9]\n",
    "plot([-1, 1], [0, 0], 'k', lw=2)\n",
    "axhspan(-5, -5, color=grey)\n",
    "axhspan(-10, -10, color=grey)\n",
    "axhspan(-20, -25, color=grey)\n",
    "plot([-1, 1], [-35, -35], 'k', lw=2)\n",
    "text(0, -2.5, '$k$ = 10 m/d', ha='center', va='center')\n",
    "text(0, -7.5, '$k$ = 5 m/d', ha='center', va='center')\n",
    "text(0, -15, '$k$ = 30 m/d', ha='center', va='center')\n",
    "text(0, -22.5, '$c$ = 2000 d', ha='center', va='center')\n",
    "text(0, -30, '$k$ = 20 m/d', ha='center', va='center')\n",
    "xlim(-1, 1)\n",
    "yticks([0, -5, -10, -20, -25, -35])\n",
    "ylabel('elevation (m)')\n",
    "xticks([])\n",
    "savefig('../docs/models/model.png', bbox_inches='tight')\n",
    "#Model(kaq=[10, 5, 30, 20], c=[2, 5, 2000], z=[0, -5, -10, -20, -25, -35], \n",
    "# npor=[0.3, 0.3, 0.3, 0.3], ltype=['a', 'a', 'a', 'l', 'a'])"
   ]
  },
  {
   "cell_type": "code",
   "execution_count": 5,
   "metadata": {
    "collapsed": false
   },
   "outputs": [
    {
     "name": "stdout",
     "output_type": "stream",
     "text": [
      "Untitled.ipynb                 timml_notebook0_sol.ipynb\r\n",
      "\u001b[34mfigs\u001b[m\u001b[m/                          \u001b[31mtimml_notebook1_sol.ipynb\u001b[m\u001b[m*\r\n",
      "lake_horizontal_well.ipynb     \u001b[31mtimml_notebook2_sol.ipynb\u001b[m\u001b[m*\r\n",
      "test_linesink_discharge.ipynb  \u001b[31mtimml_notebook3_sol.ipynb\u001b[m\u001b[m*\r\n",
      "test_well_near_lake.ipynb      timml_notebook4_sol.ipynb\r\n",
      "timml_figures.ipynb            timml_notebook5_sol.ipynb\r\n"
     ]
    }
   ],
   "source": [
    "ls"
   ]
  },
  {
   "cell_type": "code",
   "execution_count": null,
   "metadata": {
    "collapsed": true
   },
   "outputs": [],
   "source": []
  }
 ],
 "metadata": {
  "kernelspec": {
   "display_name": "Python 3",
   "language": "python",
   "name": "python3"
  },
  "language_info": {
   "codemirror_mode": {
    "name": "ipython",
    "version": 3
   },
   "file_extension": ".py",
   "mimetype": "text/x-python",
   "name": "python",
   "nbconvert_exporter": "python",
   "pygments_lexer": "ipython3",
   "version": "3.6.0"
  },
  "widgets": {
   "state": {},
   "version": "1.1.2"
  }
 },
 "nbformat": 4,
 "nbformat_minor": 0
}
