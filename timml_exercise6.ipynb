{
 "cells": [
  {
   "cell_type": "markdown",
   "metadata": {},
   "source": [
    "# TimML Exercises"
   ]
  },
  {
   "cell_type": "markdown",
   "metadata": {},
   "source": [
    "## Exercise 6. Interactive plotting"
   ]
  },
  {
   "cell_type": "code",
   "execution_count": null,
   "metadata": {
    "collapsed": false
   },
   "outputs": [],
   "source": [
    "from timml import *\n",
    "from pylab import *\n",
    "# interactive plots don't work well with %matplotlib notebook\n",
    "%matplotlib inline  "
   ]
  },
  {
   "cell_type": "code",
   "execution_count": null,
   "metadata": {
    "collapsed": false,
    "scrolled": false
   },
   "outputs": [],
   "source": [
    "ml = Model(k=10, zb=[0], zt=[10])\n",
    "uf = Uflow(ml, grad=0.002, angle=0)\n",
    "rf = Constant(ml, xr=1000, yr=0, head=40, layer=0)\n",
    "w = Well(ml, xw=0, yw=0, Qw=200, rw=0.1, layers=[0])\n",
    "ml.solve()\n",
    "timcontour(ml, -1000, 1000, 50, -1000, 1000, 50, layers=1, levels=20)"
   ]
  },
  {
   "cell_type": "code",
   "execution_count": null,
   "metadata": {
    "collapsed": false
   },
   "outputs": [],
   "source": [
    "xyzlist = []\n",
    "timelist = []\n",
    "for ys in linspace(-700, 700, 14):\n",
    "    xyz, time, mes, lt = traceline(ml, -1000, ys, 0, 50, maxsteps=500, window = [-1000, -1000, 1000, 1000])\n",
    "    xyzlist.append(xyz)\n",
    "    timelist.append(time)"
   ]
  },
  {
   "cell_type": "code",
   "execution_count": null,
   "metadata": {
    "collapsed": false
   },
   "outputs": [],
   "source": [
    "def welltrace(t):\n",
    "    figure(figsize=(6,6))\n",
    "    for xyz, time in zip(xyzlist, timelist):\n",
    "        x = interp(t, time, xyz[:,0])\n",
    "        y = interp(t, time, xyz[:,1])\n",
    "        plot(x, y, 'bo')\n",
    "    axis('scaled')\n",
    "    xlim(-1000, 1000)\n",
    "    ylim(-1000, 1000)\n",
    "    plot(0, 0, 'ko')"
   ]
  },
  {
   "cell_type": "code",
   "execution_count": null,
   "metadata": {
    "collapsed": false,
    "scrolled": false
   },
   "outputs": [],
   "source": [
    "from ipywidgets import interact, FloatSlider\n",
    "interact(welltrace, t = FloatSlider(min=0, max=40000, step=10, value=0, description='Time')); "
   ]
  },
  {
   "cell_type": "markdown",
   "metadata": {
    "collapsed": true
   },
   "source": [
    "#### Exercise 6a\n",
    "For the same aquifer, place one well at $(x,y)=(0,-400)$ and one well at $(x,y)=(0,400)$. The wells have the same discharge. Determine the discharge such that no water flows between the two wells."
   ]
  },
  {
   "cell_type": "code",
   "execution_count": null,
   "metadata": {
    "collapsed": false
   },
   "outputs": [],
   "source": []
  },
  {
   "cell_type": "code",
   "execution_count": null,
   "metadata": {
    "collapsed": false
   },
   "outputs": [],
   "source": []
  },
  {
   "cell_type": "code",
   "execution_count": null,
   "metadata": {
    "collapsed": true
   },
   "outputs": [],
   "source": []
  }
 ],
 "metadata": {
  "kernelspec": {
   "display_name": "Python 2",
   "language": "python",
   "name": "python2"
  },
  "language_info": {
   "codemirror_mode": {
    "name": "ipython",
    "version": 2
   },
   "file_extension": ".py",
   "mimetype": "text/x-python",
   "name": "python",
   "nbconvert_exporter": "python",
   "pygments_lexer": "ipython2",
   "version": "2.7.11"
  }
 },
 "nbformat": 4,
 "nbformat_minor": 0
}
