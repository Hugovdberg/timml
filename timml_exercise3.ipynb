{
 "cells": [
  {
   "cell_type": "markdown",
   "metadata": {},
   "source": [
    "# TimML Exercises"
   ]
  },
  {
   "cell_type": "markdown",
   "metadata": {},
   "source": [
    "## Exercise 3: Inhomogeneities\n",
    "\n",
    "Consider a two-aquifer system that contains one inhomogeneity. Inside the inhomogeneity the transmissivity\n",
    "of the top aquifer is much lower and the transmissivity of the bottom aquifer is much higher than outside the\n",
    "inhomogeneity. Aquifer properties are given in Table 1 and the inhomogeneity data is given in table 2. There is a uniform gradient of 0.002 in Southeastern\n",
    "direction.\n",
    "\n",
    "#### Table 1: Aquifer data\n",
    "\n",
    "|             | $k$ (m/d) | $z_b$ (m)  | $z_t$ | $c$ (days)|\n",
    "|------------:|----------:|----------:|------:|-----------:|\n",
    "|Aquifer 0    |    10     |     0     |   20  |            |\n",
    "|Leaky Layer 1|           |    -10    |   0   |   4000     |\n",
    "|Aquifer 1    |    20     |    -30    |   10  |            ||\n",
    "\n",
    "#### Table 2: Inhomogeneity 1 data\n",
    "\n",
    "\n",
    "|             | $k$ (m/d) | $z_b$ (m) | $z_t$ | $c$ (days) |\n",
    "|------------:|----------:|----------:|------:|-----------:|\n",
    "|Aquifer 0    |    2      |     0     |   20  |            |\n",
    "|Leaky Layer 1|           |    -10    |   0   |   500      |\n",
    "|Aquifer 1    |    80     |    -30    |   -10  |           ||\n",
    "\n",
    "\n",
    "A layout of the nodes of the inhomogeneity are shown in Fig. 1 (inhomogeneity 2 will be added\n",
    "later on). A well is located in the top aquifer inside inhomogeneity 1 (the black dot).\n",
    "\n",
    "![](Inhomogeneity_exercise3.png)\n",
    "#### Figure 1: Layout of elements for exercise 3. A well is located inside inhomogeneity 1. Inhomogeneity 2 is added in the second part of the exercise."
   ]
  },
  {
   "cell_type": "code",
   "execution_count": null,
   "metadata": {
    "collapsed": false
   },
   "outputs": [],
   "source": [
    "from timml import *\n",
    "from pylab import *\n",
    "%matplotlib notebook"
   ]
  },
  {
   "cell_type": "code",
   "execution_count": null,
   "metadata": {
    "collapsed": false
   },
   "outputs": [],
   "source": [
    "ml = Model(k=[10, 20], \n",
    "           zb=[0, -30], \n",
    "           zt=[20, -10], \n",
    "           c=[4000])\n",
    "xy1 = [(0, 600), (-100, 400), (-100, 200), (100, 100), (300, 100), (500, 100),\n",
    "       (700, 300), (700, 500), (600, 700), (400, 700), (200, 600)]\n",
    "inhom1 = PolygonInhom(ml, k=[2, 80], zb=[0, -30], zt=[20, -10], c=[500], xylist=xy1)\n",
    "MakeInhomPolySide(ml, xylist=xy1, order=3, closed=True)\n",
    "Constant(ml, xr=1000, yr=0, head=40)\n",
    "Uflow(ml, grad=0.002, angle=-45)\n",
    "w = Well(ml, xw=400, yw=400, Qw=500, rw=0.2, layers=0)"
   ]
  },
  {
   "cell_type": "markdown",
   "metadata": {},
   "source": [
    "### Questions\n",
    "\n",
    "#### Exercise 3a\n",
    "What are the leakage factors of the background aquifer and the inhomogeneity?"
   ]
  },
  {
   "cell_type": "code",
   "execution_count": null,
   "metadata": {
    "collapsed": false
   },
   "outputs": [],
   "source": []
  },
  {
   "cell_type": "markdown",
   "metadata": {},
   "source": [
    "#### Exercise 3b\n",
    "Make a contour plot of both aquifers."
   ]
  },
  {
   "cell_type": "code",
   "execution_count": null,
   "metadata": {
    "collapsed": false,
    "scrolled": false
   },
   "outputs": [],
   "source": []
  },
  {
   "cell_type": "markdown",
   "metadata": {},
   "source": [
    "#### Exercise 3c\n",
    "Create a 20-year capture zone for the well, starting the pathlines halfway the top aquifer. First create a contour plot with a cross-section below it."
   ]
  },
  {
   "cell_type": "code",
   "execution_count": null,
   "metadata": {
    "collapsed": false
   },
   "outputs": [],
   "source": []
  },
  {
   "cell_type": "markdown",
   "metadata": {},
   "source": [
    "#### Exercise 3d\n",
    "Change the elevation of the bottom of aquifer 1 from -30 to -20 inside inhomogeneity 1 (you need to recreate the model). Make a\n",
    "contour plot with a cross-section below it and start some  pathlines from $x=-200$, $y=700$. (note that the cross-section\n",
    "shows the elevation layers in the background aquifer, not the inhomogeneity). Note that the pathlines jump when they enter and\n",
    "exit inhomogeneity 1. This is caused by the jump in the base. It meets all continuity conditions and is an\n",
    "approximation of the smooth change in elevation that occurs over a distance of approximately one aquifer\n",
    "thickness from the boundary."
   ]
  },
  {
   "cell_type": "code",
   "execution_count": null,
   "metadata": {
    "collapsed": false
   },
   "outputs": [],
   "source": []
  },
  {
   "cell_type": "markdown",
   "metadata": {},
   "source": [
    "---\n",
    "### Two inhomogeneities:\n",
    "\n",
    "A second inhomogeneity is added, which shares part of its boundary with the first inhomogeneity. The aquifer properties for the inhomogeneity are provided in table 3. Inside this second inhomogeneity, the transmissivity of both the bottom aquifer and the resistance of the leaky layer are reduced. The input is now somewhat complicated. First the data of the two inhomgeneities is entered. Second, analytic elements are placed along the boundary of the inhomogeneity with `MakeInhomPolySide`. \n",
    "This routine places line elements along a string of points, but it requires that the\n",
    "aquifer data is the same on the left and right sides of the line. Hence, for this case we need to break the boundary up\n",
    "in three sections: One section with the background aquifer on one side and `inhom1` on the other, one section\n",
    "with the background aquifer on one side and `inhom2` on the other, and one section with `inhom1` on one side\n",
    "and `inhom2` on the other. The input file is a bit longer\n",
    "\n",
    "#### Table 3: Inhomogeneity 2 data\n",
    "\n",
    "|             | $k$ (m/d) | $z_b$ (m) | $z_t$ | $c$ (days) |\n",
    "|------------:|----------:|----------:|------:|-----------:|\n",
    "|Aquifer 0    |    2      |     -20   |   0   |            |\n",
    "|Leaky Layer 1|           |    -40    |   -20 |   50       |\n",
    "|Aquifer 1    |    8      |    -80    |   -40 |            |"
   ]
  },
  {
   "cell_type": "code",
   "execution_count": null,
   "metadata": {
    "collapsed": false
   },
   "outputs": [],
   "source": [
    "ml = Model(k=[10, 20], \n",
    "           zb=[0, -30], \n",
    "           zt=[20, -10], \n",
    "           c=[4000] )\n",
    "xy1 = [(0, 600), (-100, 400), (-100, 200), (100, 100), (300, 100), (500, 100), \\\n",
    "       (700, 300), (700, 500), (600, 700), (400, 700), (200, 600)]\n",
    "xy1a = [(0, 600), (-100, 400), (-100, 200), (100, 100), (300, 100), (500, 100), \\\n",
    "       (700, 300), (700, 500), (600, 700), (400, 700)]\n",
    "xy1b = [(400, 700), (200, 600), (0, 600)]\n",
    "inhom1 = PolygonInhom(ml, k=[2, 80], zb=[0, -30], zt=[20, -10], c=[500], xylist=xy1)\n",
    "xy2 = [(0, 600), (200, 600), (400, 700), (400, 900), (200, 1100), (0, 1000), (-100, 800)]\n",
    "xy2a = [(400, 700), (400, 900), (200, 1100), (0, 1000), (-100, 800), (0, 600)]\n",
    "inhom2 = PolygonInhom(ml, k=[2, 8], zb=[0, -30], zt=[20, -10], c=[50], xylist=xy2)\n",
    "MakeInhomPolySide(ml, xylist=xy1a, order=3)\n",
    "MakeInhomPolySide(ml, xylist=xy1b, order=3)\n",
    "MakeInhomPolySide(ml, xylist=xy2a, order=3)\n",
    "Constant(ml, xr=1000, yr=0, head=40)\n",
    "Uflow(ml, grad=0.002, angle=-45)\n",
    "w = Well(ml, xw=400, yw=400, Qw=500, rw=0.2, layers=0)"
   ]
  },
  {
   "cell_type": "markdown",
   "metadata": {},
   "source": [
    "#### Exercise 3e\n",
    "What is the leakage factor inside the second inhomogeneity?"
   ]
  },
  {
   "cell_type": "code",
   "execution_count": null,
   "metadata": {
    "collapsed": false
   },
   "outputs": [],
   "source": []
  },
  {
   "cell_type": "markdown",
   "metadata": {},
   "source": [
    "#### Exercise 3f\n",
    "Create a 20-year capture zone for the well, starting the pathlines halfway the top aquifer. Does the capture\n",
    "zone look significantly different from the case with one inhomogeneity?"
   ]
  },
  {
   "cell_type": "code",
   "execution_count": null,
   "metadata": {
    "collapsed": false,
    "scrolled": false
   },
   "outputs": [],
   "source": []
  },
  {
   "cell_type": "code",
   "execution_count": null,
   "metadata": {
    "collapsed": true
   },
   "outputs": [],
   "source": []
  }
 ],
 "metadata": {
  "kernelspec": {
   "display_name": "Python 2",
   "language": "python",
   "name": "python2"
  },
  "language_info": {
   "codemirror_mode": {
    "name": "ipython",
    "version": 2
   },
   "file_extension": ".py",
   "mimetype": "text/x-python",
   "name": "python",
   "nbconvert_exporter": "python",
   "pygments_lexer": "ipython2",
   "version": "2.7.11"
  }
 },
 "nbformat": 4,
 "nbformat_minor": 0
}
