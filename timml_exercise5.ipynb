{
 "cells": [
  {
   "cell_type": "markdown",
   "metadata": {},
   "source": [
    "# TimML Exercises\n",
    "---\n",
    "## Exercise 5: Impermeable walls\n",
    "\n",
    "Impermeable walls may be modeled with line segments. Each impermeable wall is divided up in segments\n",
    "and each segment is modeled with a `LineDoubletImp` element. The `LineDoubletImp` element has an option\n",
    "called order. The no-flow condition is applied at order+1 control points along the segments. Between the\n",
    "control points, the condition is met approximately. The modeler needs to verify whether the chosen lengths\n",
    "of segments and orders results in an accurate solution. \n",
    "\n",
    "In the current implementation, order cannot be larger than 8, and it is recommended not to go higher than 5 unless really necessary. Impermeable walls can be placed in multiple layers by simply entering a list of layers using the keyword argument `layers = []`.\n",
    "\n",
    "<img src=\"Exercise5_Temp.png\">\n",
    "#### Figure of the model\n",
    "\n",
    "Consider an aquifer with a uniform flow from West to East. The aquifer is divided in four layers with\n",
    "equal hydraulic conductivity; the model is created with the `Model3D` command. A square building pit is\n",
    "surrounded by impermeable walls that extend halfway into the aquifer: they are placed in the top two model\n",
    "layers. In the center of the building pit, a well is screened in the top aquifer. "
   ]
  },
  {
   "cell_type": "code",
   "execution_count": null,
   "metadata": {
    "collapsed": false
   },
   "outputs": [],
   "source": [
    "from timml import *\n",
    "%matplotlib notebook"
   ]
  },
  {
   "cell_type": "code",
   "execution_count": null,
   "metadata": {
    "collapsed": false
   },
   "outputs": [],
   "source": [
    "ml = Model3D([40, 30, 20, 10, 0])\n",
    "uf = Uflow(ml, grad=0.01, angle=0)\n",
    "rf = Constant(ml, xr=200, yr=0, head=50)\n",
    "xp = [-100, 100, 100, -100, -100]\n",
    "yp = [-100, -100, 100, 100, -100]\n",
    "for i in range(len(xp) - 1):\n",
    "    LineDoubletImp(ml, xp[i], yp[i], xp[i+1], yp[i+1], order=3, layers=[0, 1])\n",
    "w = Well(ml, xw=0, yw=0, Qw=400, rw=0.1, layers=[0])"
   ]
  },
  {
   "cell_type": "markdown",
   "metadata": {},
   "source": [
    "### Questions:\n",
    "#### Exercise 5a\n",
    "Solve the model."
   ]
  },
  {
   "cell_type": "code",
   "execution_count": null,
   "metadata": {
    "collapsed": false
   },
   "outputs": [],
   "source": []
  },
  {
   "cell_type": "markdown",
   "metadata": {},
   "source": [
    "#### Exercise 5b \n",
    "Make a contour plot for a window from $(x, y) = (−300,−300)$ to $(x, y) = (300, 300)$. Create contours of the top (layer=0) and bottom (layer=3) layers on the same graph."
   ]
  },
  {
   "cell_type": "code",
   "execution_count": null,
   "metadata": {
    "collapsed": false
   },
   "outputs": [],
   "source": []
  },
  {
   "cell_type": "markdown",
   "metadata": {},
   "source": [
    "#### Exercise 5c\n",
    "Create a contour plot with a vertical cross-section below it. Start a number of tracelines to see that water indeed flows around the impermeable wall."
   ]
  },
  {
   "cell_type": "code",
   "execution_count": null,
   "metadata": {
    "collapsed": false
   },
   "outputs": [],
   "source": []
  },
  {
   "cell_type": "code",
   "execution_count": null,
   "metadata": {
    "collapsed": true
   },
   "outputs": [],
   "source": []
  }
 ],
 "metadata": {
  "kernelspec": {
   "display_name": "Python 2",
   "language": "python",
   "name": "python2"
  },
  "language_info": {
   "codemirror_mode": {
    "name": "ipython",
    "version": 2
   },
   "file_extension": ".py",
   "mimetype": "text/x-python",
   "name": "python",
   "nbconvert_exporter": "python",
   "pygments_lexer": "ipython2",
   "version": "2.7.11"
  }
 },
 "nbformat": 4,
 "nbformat_minor": 0
}
